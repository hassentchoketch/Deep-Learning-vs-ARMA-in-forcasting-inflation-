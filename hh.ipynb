{
 "cells": [
  {
   "cell_type": "code",
   "execution_count": 2,
   "metadata": {},
   "outputs": [
    {
     "ename": "KeyError",
     "evalue": "'Mean Squared Errors (validation)'",
     "output_type": "error",
     "traceback": [
      "\u001b[1;31m---------------------------------------------------------------------------\u001b[0m",
      "\u001b[1;31mKeyError\u001b[0m                                  Traceback (most recent call last)",
      "File \u001b[1;32mc:\\Users\\Hassen\\miniconda3\\envs\\data_science\\lib\\site-packages\\pandas\\core\\indexes\\base.py:3803\u001b[0m, in \u001b[0;36mIndex.get_loc\u001b[1;34m(self, key, method, tolerance)\u001b[0m\n\u001b[0;32m   3802\u001b[0m \u001b[39mtry\u001b[39;00m:\n\u001b[1;32m-> 3803\u001b[0m     \u001b[39mreturn\u001b[39;00m \u001b[39mself\u001b[39;49m\u001b[39m.\u001b[39;49m_engine\u001b[39m.\u001b[39;49mget_loc(casted_key)\n\u001b[0;32m   3804\u001b[0m \u001b[39mexcept\u001b[39;00m \u001b[39mKeyError\u001b[39;00m \u001b[39mas\u001b[39;00m err:\n",
      "File \u001b[1;32mc:\\Users\\Hassen\\miniconda3\\envs\\data_science\\lib\\site-packages\\pandas\\_libs\\index.pyx:138\u001b[0m, in \u001b[0;36mpandas._libs.index.IndexEngine.get_loc\u001b[1;34m()\u001b[0m\n",
      "File \u001b[1;32mc:\\Users\\Hassen\\miniconda3\\envs\\data_science\\lib\\site-packages\\pandas\\_libs\\index.pyx:165\u001b[0m, in \u001b[0;36mpandas._libs.index.IndexEngine.get_loc\u001b[1;34m()\u001b[0m\n",
      "File \u001b[1;32mpandas\\_libs\\hashtable_class_helper.pxi:5745\u001b[0m, in \u001b[0;36mpandas._libs.hashtable.PyObjectHashTable.get_item\u001b[1;34m()\u001b[0m\n",
      "File \u001b[1;32mpandas\\_libs\\hashtable_class_helper.pxi:5753\u001b[0m, in \u001b[0;36mpandas._libs.hashtable.PyObjectHashTable.get_item\u001b[1;34m()\u001b[0m\n",
      "\u001b[1;31mKeyError\u001b[0m: 'Mean Squared Errors (validation)'",
      "\nThe above exception was the direct cause of the following exception:\n",
      "\u001b[1;31mKeyError\u001b[0m                                  Traceback (most recent call last)",
      "Cell \u001b[1;32mIn[2], line 13\u001b[0m\n\u001b[0;32m     10\u001b[0m model_rows \u001b[39m=\u001b[39m df[df[\u001b[39m'\u001b[39m\u001b[39mModel\u001b[39m\u001b[39m'\u001b[39m] \u001b[39m==\u001b[39m model_name]\n\u001b[0;32m     12\u001b[0m \u001b[39m# get the row with the minimum Mean Squared Errors (validation)\u001b[39;00m\n\u001b[1;32m---> 13\u001b[0m min_row \u001b[39m=\u001b[39m model_rows\u001b[39m.\u001b[39mloc[model_rows[\u001b[39m'\u001b[39;49m\u001b[39mMean Squared Errors (validation)\u001b[39;49m\u001b[39m'\u001b[39;49m]\u001b[39m.\u001b[39midxmin()]\n\u001b[0;32m     15\u001b[0m \u001b[39m# print the result\u001b[39;00m\n\u001b[0;32m     16\u001b[0m \u001b[39mprint\u001b[39m(min_row)\n",
      "File \u001b[1;32mc:\\Users\\Hassen\\miniconda3\\envs\\data_science\\lib\\site-packages\\pandas\\core\\frame.py:3805\u001b[0m, in \u001b[0;36mDataFrame.__getitem__\u001b[1;34m(self, key)\u001b[0m\n\u001b[0;32m   3803\u001b[0m \u001b[39mif\u001b[39;00m \u001b[39mself\u001b[39m\u001b[39m.\u001b[39mcolumns\u001b[39m.\u001b[39mnlevels \u001b[39m>\u001b[39m \u001b[39m1\u001b[39m:\n\u001b[0;32m   3804\u001b[0m     \u001b[39mreturn\u001b[39;00m \u001b[39mself\u001b[39m\u001b[39m.\u001b[39m_getitem_multilevel(key)\n\u001b[1;32m-> 3805\u001b[0m indexer \u001b[39m=\u001b[39m \u001b[39mself\u001b[39;49m\u001b[39m.\u001b[39;49mcolumns\u001b[39m.\u001b[39;49mget_loc(key)\n\u001b[0;32m   3806\u001b[0m \u001b[39mif\u001b[39;00m is_integer(indexer):\n\u001b[0;32m   3807\u001b[0m     indexer \u001b[39m=\u001b[39m [indexer]\n",
      "File \u001b[1;32mc:\\Users\\Hassen\\miniconda3\\envs\\data_science\\lib\\site-packages\\pandas\\core\\indexes\\base.py:3805\u001b[0m, in \u001b[0;36mIndex.get_loc\u001b[1;34m(self, key, method, tolerance)\u001b[0m\n\u001b[0;32m   3803\u001b[0m     \u001b[39mreturn\u001b[39;00m \u001b[39mself\u001b[39m\u001b[39m.\u001b[39m_engine\u001b[39m.\u001b[39mget_loc(casted_key)\n\u001b[0;32m   3804\u001b[0m \u001b[39mexcept\u001b[39;00m \u001b[39mKeyError\u001b[39;00m \u001b[39mas\u001b[39;00m err:\n\u001b[1;32m-> 3805\u001b[0m     \u001b[39mraise\u001b[39;00m \u001b[39mKeyError\u001b[39;00m(key) \u001b[39mfrom\u001b[39;00m \u001b[39merr\u001b[39;00m\n\u001b[0;32m   3806\u001b[0m \u001b[39mexcept\u001b[39;00m \u001b[39mTypeError\u001b[39;00m:\n\u001b[0;32m   3807\u001b[0m     \u001b[39m# If we have a listlike key, _check_indexing_error will raise\u001b[39;00m\n\u001b[0;32m   3808\u001b[0m     \u001b[39m#  InvalidIndexError. Otherwise we fall through and re-raise\u001b[39;00m\n\u001b[0;32m   3809\u001b[0m     \u001b[39m#  the TypeError.\u001b[39;00m\n\u001b[0;32m   3810\u001b[0m     \u001b[39mself\u001b[39m\u001b[39m.\u001b[39m_check_indexing_error(key)\n",
      "\u001b[1;31mKeyError\u001b[0m: 'Mean Squared Errors (validation)'"
     ]
    }
   ],
   "source": [
    "import pandas as pd\n",
    "\n",
    "# read the dataframe\n",
    "df = pd.read_csv(r'C:\\Users\\Hassen\\Desktop\\inflation_rate_prediction_LSTM\\results\\tuning_summary.csv')\n",
    "\n",
    "# specify the model name to filter\n",
    "model_name = 'LSTM'\n",
    "\n",
    "# filter the rows based on the model name\n",
    "model_rows = df[df['Model'] == model_name]\n",
    "\n",
    "# get the row with the minimum Mean Squared Errors (validation)\n",
    "min_row = model_rows.loc[model_rows['Mean Squared Errors (validation)'].idxmin()]\n",
    "\n",
    "# print the result\n",
    "print(min_row)"
   ]
  },
  {
   "cell_type": "code",
   "execution_count": 9,
   "metadata": {},
   "outputs": [],
   "source": [
    "def get_optimal_hyperparamaters(tuning_result,model_name):\n",
    "    # read the dataframe\n",
    "    df = pd.read_csv(tuning_result)\n",
    "\n",
    "    # filter the rows based on the model name\n",
    "    model_rows = df[df['Model'] == model_name]\n",
    "\n",
    "    # get the row with the minimum Mean Squared Errors (validation)\n",
    "    min_row = model_rows.loc[model_rows['Mean Squared Errors (validation)'].idxmin()]\n",
    "\n",
    "    # return the result\n",
    "    return min_row\n",
    "    "
   ]
  },
  {
   "cell_type": "code",
   "execution_count": 10,
   "metadata": {},
   "outputs": [],
   "source": [
    "min = get_optimal_hyperparamaters(r'C:\\Users\\Hassen\\Desktop\\inflation_rate_prediction_LSTM\\results\\tuning_summary.csv','LSTM')\n",
    "min"
   ]
  },
  {
   "cell_type": "code",
   "execution_count": 1,
   "metadata": {},
   "outputs": [],
   "source": [
    "import tensorflow as tf "
   ]
  },
  {
   "cell_type": "code",
   "execution_count": 19,
   "metadata": {},
   "outputs": [],
   "source": [
    "CNN = tf.keras.models.Sequential(\n",
    "            [\n",
    "                tf.keras.layers.Conv1D(\n",
    "                    filters=64,\n",
    "                    kernel_size=3,\n",
    "                    strides=1,\n",
    "                    padding=\"causal\",\n",
    "                    activation='relu',\n",
    "                    input_shape=[6, 1],\n",
    "                ),\n",
    "                tf.keras.layers.MaxPooling1D(pool_size=2),\n",
    "                tf.keras.layers.Flatten(),\n",
    "                tf.keras.layers.Dense(2, activation='relu'),\n",
    "        \n",
    "                tf.keras.layers.Dense(1,activation=None),\n",
    "                # tf.keras.layers.Lambda(lambda x: x * 100.0),\n",
    "            ]\n",
    "        )"
   ]
  },
  {
   "cell_type": "code",
   "execution_count": 2,
   "metadata": {},
   "outputs": [],
   "source": [
    "from helper import *"
   ]
  },
  {
   "cell_type": "code",
   "execution_count": 20,
   "metadata": {},
   "outputs": [
    {
     "name": "stderr",
     "output_type": "stream",
     "text": [
      "c:\\Users\\Hassen\\miniconda3\\envs\\data_science\\lib\\site-packages\\tensorflow\\python\\data\\ops\\structured_function.py:264: UserWarning: Even though the `tf.config.experimental_run_functions_eagerly` option is set, this option does not apply to tf.data functions. To force eager execution of tf.data functions, please use `tf.data.experimental.enable_debug_mode()`.\n",
      "  warnings.warn(\n"
     ]
    },
    {
     "data": {
      "text/plain": [
       "<keras.callbacks.History at 0x26f7a6621d0>"
      ]
     },
     "execution_count": 20,
     "metadata": {},
     "output_type": "execute_result"
    }
   ],
   "source": [
    "cwd = os.getcwd()\n",
    "train = pd.read_csv(cwd+'\\\\results\\\\data\\\\training_dataset.csv',index_col='date')\n",
    "valid = pd.read_csv(cwd+'\\\\results\\\\data\\\\validation_dataset.csv',index_col='date')\n",
    "\n",
    "train_dataset = windowed_dataset(series=train.values,window_size= 6)\n",
    "valid_dataset = windowed_dataset(series=valid.values,window_size= 6)\n",
    "\n",
    "model_train(model = CNN ,dataset=train_dataset,validation_data=valid_dataset,learning_rate=0.001,patience=5)"
   ]
  },
  {
   "cell_type": "code",
   "execution_count": 21,
   "metadata": {},
   "outputs": [
    {
     "name": "stdout",
     "output_type": "stream",
     "text": [
      "8/8 [==============================] - 0s 32ms/step\n"
     ]
    }
   ],
   "source": [
    "train_predicts = model_forecast(model=CNN,series=train.values,window_size=6)"
   ]
  },
  {
   "cell_type": "code",
   "execution_count": 22,
   "metadata": {},
   "outputs": [
    {
     "name": "stdout",
     "output_type": "stream",
     "text": [
      "2/2 [==============================] - 0s 32ms/step\n",
      "(211,)\n"
     ]
    }
   ],
   "source": [
    "valid_predicts = model_forecast(model=CNN,series=valid.values,window_size=6)\n",
    "print(train_predicts.shape)"
   ]
  },
  {
   "cell_type": "code",
   "execution_count": 3,
   "metadata": {},
   "outputs": [],
   "source": [
    "hyper_param = {\n",
    "        'input_shape_num':[5,6,7],\n",
    "        'layer_num':[1,2,3],\n",
    "        'layer_units':[2,3,4,5]\n",
    "    }"
   ]
  },
  {
   "cell_type": "code",
   "execution_count": 6,
   "metadata": {},
   "outputs": [],
   "source": [
    "import itertools"
   ]
  },
  {
   "cell_type": "code",
   "execution_count": 8,
   "metadata": {},
   "outputs": [
    {
     "name": "stdout",
     "output_type": "stream",
     "text": [
      "[1, 2, 5]\n",
      "[1, 2, 6]\n",
      "[1, 2, 7]\n",
      "[1, 3, 5]\n",
      "[1, 3, 6]\n",
      "[1, 3, 7]\n",
      "[1, 4, 5]\n",
      "[1, 4, 6]\n",
      "[1, 4, 7]\n",
      "[1, 5, 5]\n",
      "[1, 5, 6]\n",
      "[1, 5, 7]\n",
      "[2, 2, 5]\n",
      "[2, 2, 6]\n",
      "[2, 2, 7]\n",
      "[2, 3, 5]\n",
      "[2, 3, 6]\n",
      "[2, 3, 7]\n",
      "[2, 4, 5]\n",
      "[2, 4, 6]\n",
      "[2, 4, 7]\n",
      "[2, 5, 5]\n",
      "[2, 5, 6]\n",
      "[2, 5, 7]\n",
      "[3, 2, 5]\n",
      "[3, 2, 6]\n",
      "[3, 2, 7]\n",
      "[3, 3, 5]\n",
      "[3, 3, 6]\n",
      "[3, 3, 7]\n",
      "[3, 4, 5]\n",
      "[3, 4, 6]\n",
      "[3, 4, 7]\n",
      "[3, 5, 5]\n",
      "[3, 5, 6]\n",
      "[3, 5, 7]\n"
     ]
    }
   ],
   "source": [
    "for layer_num,layer_unit,input_shape in itertools.product(hyper_param['layer_num'],hyper_param['layer_units'],hyper_param['input_shape_num']):\n",
    "    print([layer_num,layer_unit,input_shape])"
   ]
  },
  {
   "cell_type": "code",
   "execution_count": 6,
   "metadata": {},
   "outputs": [],
   "source": [
    "import os \n",
    "\n",
    "cwd = os.getcwd()"
   ]
  },
  {
   "cell_type": "code",
   "execution_count": 7,
   "metadata": {},
   "outputs": [],
   "source": [
    "test= pd.read_csv(cwd+'\\\\results\\\\data\\\\testing_dataset.csv',index_col='date',parse_dates=['date'])"
   ]
  },
  {
   "cell_type": "code",
   "execution_count": 14,
   "metadata": {},
   "outputs": [
    {
     "data": {
      "text/html": [
       "<div>\n",
       "<style scoped>\n",
       "    .dataframe tbody tr th:only-of-type {\n",
       "        vertical-align: middle;\n",
       "    }\n",
       "\n",
       "    .dataframe tbody tr th {\n",
       "        vertical-align: top;\n",
       "    }\n",
       "\n",
       "    .dataframe thead th {\n",
       "        text-align: right;\n",
       "    }\n",
       "</style>\n",
       "<table border=\"1\" class=\"dataframe\">\n",
       "  <thead>\n",
       "    <tr style=\"text-align: right;\">\n",
       "      <th></th>\n",
       "      <th>CPI(%)</th>\n",
       "    </tr>\n",
       "    <tr>\n",
       "      <th>date</th>\n",
       "      <th></th>\n",
       "    </tr>\n",
       "  </thead>\n",
       "  <tbody>\n",
       "    <tr>\n",
       "      <th>2021-01-01</th>\n",
       "      <td>4.232881</td>\n",
       "    </tr>\n",
       "    <tr>\n",
       "      <th>2021-02-01</th>\n",
       "      <td>5.284573</td>\n",
       "    </tr>\n",
       "    <tr>\n",
       "      <th>2021-03-01</th>\n",
       "      <td>5.870533</td>\n",
       "    </tr>\n",
       "    <tr>\n",
       "      <th>2021-04-01</th>\n",
       "      <td>7.175573</td>\n",
       "    </tr>\n",
       "    <tr>\n",
       "      <th>2021-05-01</th>\n",
       "      <td>6.029391</td>\n",
       "    </tr>\n",
       "    <tr>\n",
       "      <th>2021-06-01</th>\n",
       "      <td>5.368684</td>\n",
       "    </tr>\n",
       "    <tr>\n",
       "      <th>2021-07-01</th>\n",
       "      <td>7.293108</td>\n",
       "    </tr>\n",
       "    <tr>\n",
       "      <th>2021-08-01</th>\n",
       "      <td>8.695031</td>\n",
       "    </tr>\n",
       "    <tr>\n",
       "      <th>2021-09-01</th>\n",
       "      <td>9.619824</td>\n",
       "    </tr>\n",
       "    <tr>\n",
       "      <th>2021-10-01</th>\n",
       "      <td>9.155354</td>\n",
       "    </tr>\n",
       "    <tr>\n",
       "      <th>2021-11-01</th>\n",
       "      <td>9.298107</td>\n",
       "    </tr>\n",
       "    <tr>\n",
       "      <th>2021-12-01</th>\n",
       "      <td>8.484736</td>\n",
       "    </tr>\n",
       "    <tr>\n",
       "      <th>2022-01-01</th>\n",
       "      <td>9.032109</td>\n",
       "    </tr>\n",
       "    <tr>\n",
       "      <th>2022-02-01</th>\n",
       "      <td>9.201325</td>\n",
       "    </tr>\n",
       "    <tr>\n",
       "      <th>2022-03-01</th>\n",
       "      <td>9.304953</td>\n",
       "    </tr>\n",
       "    <tr>\n",
       "      <th>2022-04-01</th>\n",
       "      <td>9.993768</td>\n",
       "    </tr>\n",
       "    <tr>\n",
       "      <th>2022-05-01</th>\n",
       "      <td>9.532510</td>\n",
       "    </tr>\n",
       "    <tr>\n",
       "      <th>2022-06-01</th>\n",
       "      <td>10.821580</td>\n",
       "    </tr>\n",
       "    <tr>\n",
       "      <th>2022-07-01</th>\n",
       "      <td>9.380279</td>\n",
       "    </tr>\n",
       "    <tr>\n",
       "      <th>2022-08-01</th>\n",
       "      <td>9.844832</td>\n",
       "    </tr>\n",
       "    <tr>\n",
       "      <th>2022-09-01</th>\n",
       "      <td>8.646697</td>\n",
       "    </tr>\n",
       "    <tr>\n",
       "      <th>2022-10-01</th>\n",
       "      <td>8.081837</td>\n",
       "    </tr>\n",
       "    <tr>\n",
       "      <th>2022-11-01</th>\n",
       "      <td>8.170908</td>\n",
       "    </tr>\n",
       "    <tr>\n",
       "      <th>2022-12-01</th>\n",
       "      <td>9.294556</td>\n",
       "    </tr>\n",
       "  </tbody>\n",
       "</table>\n",
       "</div>"
      ],
      "text/plain": [
       "               CPI(%)\n",
       "date                 \n",
       "2021-01-01   4.232881\n",
       "2021-02-01   5.284573\n",
       "2021-03-01   5.870533\n",
       "2021-04-01   7.175573\n",
       "2021-05-01   6.029391\n",
       "2021-06-01   5.368684\n",
       "2021-07-01   7.293108\n",
       "2021-08-01   8.695031\n",
       "2021-09-01   9.619824\n",
       "2021-10-01   9.155354\n",
       "2021-11-01   9.298107\n",
       "2021-12-01   8.484736\n",
       "2022-01-01   9.032109\n",
       "2022-02-01   9.201325\n",
       "2022-03-01   9.304953\n",
       "2022-04-01   9.993768\n",
       "2022-05-01   9.532510\n",
       "2022-06-01  10.821580\n",
       "2022-07-01   9.380279\n",
       "2022-08-01   9.844832\n",
       "2022-09-01   8.646697\n",
       "2022-10-01   8.081837\n",
       "2022-11-01   8.170908\n",
       "2022-12-01   9.294556"
      ]
     },
     "execution_count": 14,
     "metadata": {},
     "output_type": "execute_result"
    }
   ],
   "source": [
    "test.loc['2021':]"
   ]
  },
  {
   "cell_type": "code",
   "execution_count": 17,
   "metadata": {},
   "outputs": [],
   "source": [
    "actual = test.values"
   ]
  },
  {
   "cell_type": "code",
   "execution_count": 19,
   "metadata": {},
   "outputs": [
    {
     "data": {
      "text/plain": [
       "array([], shape=(0, 1), dtype=float64)"
      ]
     },
     "execution_count": 19,
     "metadata": {},
     "output_type": "execute_result"
    }
   ],
   "source": [
    "actual[len(test)-24 :6]"
   ]
  },
  {
   "cell_type": "code",
   "execution_count": null,
   "metadata": {},
   "outputs": [],
   "source": []
  }
 ],
 "metadata": {
  "kernelspec": {
   "display_name": "data_science",
   "language": "python",
   "name": "python3"
  },
  "language_info": {
   "codemirror_mode": {
    "name": "ipython",
    "version": 3
   },
   "file_extension": ".py",
   "mimetype": "text/x-python",
   "name": "python",
   "nbconvert_exporter": "python",
   "pygments_lexer": "ipython3",
   "version": "3.10.9"
  },
  "orig_nbformat": 4
 },
 "nbformat": 4,
 "nbformat_minor": 2
}
