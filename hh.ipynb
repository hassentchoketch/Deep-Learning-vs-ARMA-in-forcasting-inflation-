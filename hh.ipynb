{
 "cells": [
  {
   "cell_type": "code",
   "execution_count": 6,
   "metadata": {},
   "outputs": [
    {
     "name": "stdout",
     "output_type": "stream",
     "text": [
      "Unnamed: 0                                12\n",
      "Model                                   LSTM\n",
      "Layers                                     2\n",
      "Units                                    128\n",
      "learning rate                       0.001153\n",
      "Mean Squared Errors (validation)    0.359524\n",
      "Mean Squared Errors (training)      0.474984\n",
      "Name: 12, dtype: object\n"
     ]
    }
   ],
   "source": [
    "import pandas as pd\n",
    "\n",
    "# read the dataframe\n",
    "df = pd.read_csv(r'C:\\Users\\Hassen\\Desktop\\inflation_rate_prediction_LSTM\\results\\tuning_summary.csv')\n",
    "\n",
    "# specify the model name to filter\n",
    "model_name = 'LSTM'\n",
    "\n",
    "# filter the rows based on the model name\n",
    "model_rows = df[df['Model'] == model_name]\n",
    "\n",
    "# get the row with the minimum Mean Squared Errors (validation)\n",
    "min_row = model_rows.loc[model_rows['Mean Squared Errors (validation)'].idxmin()]\n",
    "\n",
    "# print the result\n",
    "print(min_row)"
   ]
  },
  {
   "cell_type": "code",
   "execution_count": 9,
   "metadata": {},
   "outputs": [],
   "source": [
    "def get_optimal_hyperparamaters(tuning_result,model_name):\n",
    "    # read the dataframe\n",
    "    df = pd.read_csv(tuning_result)\n",
    "\n",
    "    # filter the rows based on the model name\n",
    "    model_rows = df[df['Model'] == model_name]\n",
    "\n",
    "    # get the row with the minimum Mean Squared Errors (validation)\n",
    "    min_row = model_rows.loc[model_rows['Mean Squared Errors (validation)'].idxmin()]\n",
    "\n",
    "    # return the result\n",
    "    return min_row\n",
    "    "
   ]
  },
  {
   "cell_type": "code",
   "execution_count": 10,
   "metadata": {},
   "outputs": [],
   "source": [
    "min = get_optimal_hyperparamaters(r'C:\\Users\\Hassen\\Desktop\\inflation_rate_prediction_LSTM\\results\\tuning_summary.csv','LSTM')\n",
    "min"
   ]
  },
  {
   "cell_type": "code",
   "execution_count": 1,
   "metadata": {},
   "outputs": [],
   "source": [
    "import tensorflow as tf "
   ]
  },
  {
   "cell_type": "code",
   "execution_count": 19,
   "metadata": {},
   "outputs": [],
   "source": [
    "CNN = tf.keras.models.Sequential(\n",
    "            [\n",
    "                tf.keras.layers.Conv1D(\n",
    "                    filters=64,\n",
    "                    kernel_size=3,\n",
    "                    strides=1,\n",
    "                    padding=\"causal\",\n",
    "                    activation='relu',\n",
    "                    input_shape=[6, 1],\n",
    "                ),\n",
    "                tf.keras.layers.MaxPooling1D(pool_size=2),\n",
    "                tf.keras.layers.Flatten(),\n",
    "                tf.keras.layers.Dense(2, activation='relu'),\n",
    "        \n",
    "                tf.keras.layers.Dense(1,activation=None),\n",
    "                # tf.keras.layers.Lambda(lambda x: x * 100.0),\n",
    "            ]\n",
    "        )"
   ]
  },
  {
   "cell_type": "code",
   "execution_count": 2,
   "metadata": {},
   "outputs": [],
   "source": [
    "from helper import *"
   ]
  },
  {
   "cell_type": "code",
   "execution_count": 20,
   "metadata": {},
   "outputs": [
    {
     "name": "stderr",
     "output_type": "stream",
     "text": [
      "c:\\Users\\Hassen\\miniconda3\\envs\\data_science\\lib\\site-packages\\tensorflow\\python\\data\\ops\\structured_function.py:264: UserWarning: Even though the `tf.config.experimental_run_functions_eagerly` option is set, this option does not apply to tf.data functions. To force eager execution of tf.data functions, please use `tf.data.experimental.enable_debug_mode()`.\n",
      "  warnings.warn(\n"
     ]
    },
    {
     "data": {
      "text/plain": [
       "<keras.callbacks.History at 0x26f7a6621d0>"
      ]
     },
     "execution_count": 20,
     "metadata": {},
     "output_type": "execute_result"
    }
   ],
   "source": [
    "cwd = os.getcwd()\n",
    "train = pd.read_csv(cwd+'\\\\results\\\\data\\\\training_dataset.csv',index_col='date')\n",
    "valid = pd.read_csv(cwd+'\\\\results\\\\data\\\\validation_dataset.csv',index_col='date')\n",
    "\n",
    "train_dataset = windowed_dataset(series=train.values,window_size= 6)\n",
    "valid_dataset = windowed_dataset(series=valid.values,window_size= 6)\n",
    "\n",
    "model_train(model = CNN ,dataset=train_dataset,validation_data=valid_dataset,learning_rate=0.001,patience=5)"
   ]
  },
  {
   "cell_type": "code",
   "execution_count": 21,
   "metadata": {},
   "outputs": [
    {
     "name": "stdout",
     "output_type": "stream",
     "text": [
      "8/8 [==============================] - 0s 32ms/step\n"
     ]
    }
   ],
   "source": [
    "train_predicts = model_forecast(model=CNN,series=train.values,window_size=6)"
   ]
  },
  {
   "cell_type": "code",
   "execution_count": 22,
   "metadata": {},
   "outputs": [
    {
     "name": "stdout",
     "output_type": "stream",
     "text": [
      "2/2 [==============================] - 0s 32ms/step\n",
      "(211,)\n"
     ]
    }
   ],
   "source": [
    "valid_predicts = model_forecast(model=CNN,series=valid.values,window_size=6)\n",
    "print(train_predicts.shape)"
   ]
  },
  {
   "cell_type": "code",
   "execution_count": 3,
   "metadata": {},
   "outputs": [],
   "source": [
    "hyper_param = {\n",
    "        'input_shape_num':[5,6,7],\n",
    "        'layer_num':[1,2,3],\n",
    "        'layer_units':[2,3,4,5]\n",
    "    }"
   ]
  },
  {
   "cell_type": "code",
   "execution_count": 6,
   "metadata": {},
   "outputs": [],
   "source": [
    "import itertools"
   ]
  },
  {
   "cell_type": "code",
   "execution_count": 8,
   "metadata": {},
   "outputs": [
    {
     "name": "stdout",
     "output_type": "stream",
     "text": [
      "[1, 2, 5]\n",
      "[1, 2, 6]\n",
      "[1, 2, 7]\n",
      "[1, 3, 5]\n",
      "[1, 3, 6]\n",
      "[1, 3, 7]\n",
      "[1, 4, 5]\n",
      "[1, 4, 6]\n",
      "[1, 4, 7]\n",
      "[1, 5, 5]\n",
      "[1, 5, 6]\n",
      "[1, 5, 7]\n",
      "[2, 2, 5]\n",
      "[2, 2, 6]\n",
      "[2, 2, 7]\n",
      "[2, 3, 5]\n",
      "[2, 3, 6]\n",
      "[2, 3, 7]\n",
      "[2, 4, 5]\n",
      "[2, 4, 6]\n",
      "[2, 4, 7]\n",
      "[2, 5, 5]\n",
      "[2, 5, 6]\n",
      "[2, 5, 7]\n",
      "[3, 2, 5]\n",
      "[3, 2, 6]\n",
      "[3, 2, 7]\n",
      "[3, 3, 5]\n",
      "[3, 3, 6]\n",
      "[3, 3, 7]\n",
      "[3, 4, 5]\n",
      "[3, 4, 6]\n",
      "[3, 4, 7]\n",
      "[3, 5, 5]\n",
      "[3, 5, 6]\n",
      "[3, 5, 7]\n"
     ]
    }
   ],
   "source": [
    "for layer_num,layer_unit,input_shape in itertools.product(hyper_param['layer_num'],hyper_param['layer_units'],hyper_param['input_shape_num']):\n",
    "    print([layer_num,layer_unit,input_shape])"
   ]
  }
 ],
 "metadata": {
  "kernelspec": {
   "display_name": "data_science",
   "language": "python",
   "name": "python3"
  },
  "language_info": {
   "codemirror_mode": {
    "name": "ipython",
    "version": 3
   },
   "file_extension": ".py",
   "mimetype": "text/x-python",
   "name": "python",
   "nbconvert_exporter": "python",
   "pygments_lexer": "ipython3",
   "version": "3.10.9"
  },
  "orig_nbformat": 4
 },
 "nbformat": 4,
 "nbformat_minor": 2
}
